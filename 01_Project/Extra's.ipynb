{
 "cells": [
  {
   "cell_type": "markdown",
   "metadata": {},
   "source": [
    "### How to read parquets "
   ]
  },
  {
   "cell_type": "markdown",
   "metadata": {},
   "source": [
    "https://www.youtube.com/watch?v=XFO5jdGsMek"
   ]
  },
  {
   "cell_type": "markdown",
   "metadata": {},
   "source": [
    "### Series vs Dataframe"
   ]
  },
  {
   "cell_type": "markdown",
   "metadata": {},
   "source": [
    "Some functions such as value_counts() produce a series.  A series can only have one column whilist a dataframe can have multiple."
   ]
  },
  {
   "cell_type": "markdown",
   "metadata": {},
   "source": [
    "### Loc and Iloc"
   ]
  },
  {
   "cell_type": "markdown",
   "metadata": {},
   "source": [
    "<b>What do they do?</b>\n",
    "\n",
    "Loc and Iloc are used to access indexes, these can be followed by column. The I in Iloc indicates that it takes intergers as an input instead of actual index names.\n",
    "\n",
    "https://www.youtube.com/watch?v=-U8QlC72izU\n",
    "\n"
   ]
  },
  {
   "cell_type": "markdown",
   "metadata": {},
   "source": [
    "Special case\n",
    "\n",
    "When making sub_df's if you do not make them using \"copy()\" it will try to modify both the sub_df and original_df so it will give a copywarning error.\n",
    "\"Copy()\" Solves the problem.\n",
    "\n",
    "https://stackoverflow.com/questions/49728421/pandas-dataframe-settingwithcopywarning-a-value-is-trying-to-be-set-on-a-copy"
   ]
  }
 ],
 "metadata": {
  "language_info": {
   "name": "python"
  }
 },
 "nbformat": 4,
 "nbformat_minor": 2
}
